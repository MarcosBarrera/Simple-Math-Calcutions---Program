{
 "cells": [
  {
   "cell_type": "markdown",
   "metadata": {
    "collapsed": true
   },
   "source": [
    "# Simple Math Calculations Program"
   ]
  },
  {
   "cell_type": "markdown",
   "metadata": {
    "collapsed": true
   },
   "source": [
    "We want to create a calculator that asks us about what we want to do with the numbers which have been submitted previously."
   ]
  },
  {
   "cell_type": "markdown",
   "metadata": {
    "collapsed": true
   },
   "source": [
    "First we need to import the library \"math\". "
   ]
  },
  {
   "cell_type": "code",
   "execution_count": 1,
   "metadata": {
    "collapsed": true
   },
   "outputs": [],
   "source": [
    "import math"
   ]
  },
  {
   "cell_type": "markdown",
   "metadata": {},
   "source": [
    "We define the menu that the user will see as soon as the program is launched:"
   ]
  },
  {
   "cell_type": "code",
   "execution_count": 2,
   "metadata": {
    "collapsed": true
   },
   "outputs": [],
   "source": [
    "def menu():\n",
    " print (\"Please insert the required option:\")\n",
    " print (\"1) Data entry\")\n",
    " print (\"2) Calculate mean\")\n",
    " print (\"3) Calculate variance\")\n",
    " print (\"4) Calculate standard deviation\")\n",
    " print (\"5) I have finished my calculations\")"
   ]
  },
  {
   "cell_type": "markdown",
   "metadata": {},
   "source": [
    "First, the user needs to provide the program with the \"number of numbers\" he will want to add to the calculation. As soon as he press enter, the program will require the numbers one by one. "
   ]
  },
  {
   "cell_type": "code",
   "execution_count": 3,
   "metadata": {
    "collapsed": true
   },
   "outputs": [],
   "source": [
    "def obtainNumbers():\n",
    " print (\"How many numbers do you want to insert?\")\n",
    " totalData = int(input())\n",
    " data = []\n",
    " for i in range(0, totalData):\n",
    "  print(\"Enter \", i + 1, \"/\", totalData, \" number:\")\n",
    "  data1 = input()\n",
    "  data.append(int(data1))\n",
    " return data"
   ]
  },
  {
   "cell_type": "markdown",
   "metadata": {},
   "source": [
    "When all the numbers have been submitted, the program will ask again about the next step. If we need to change the numbers due to a mistake, we could press \"1\" again and the program will start again. \n",
    "If the user is happy with the submitted data, he can select among three options: calculate mean, variance or standard deviation.\n",
    "\n",
    "Therefore, we need to code the mentioned calculations. In the next three chunks we will code those calculations:"
   ]
  },
  {
   "cell_type": "code",
   "execution_count": 4,
   "metadata": {
    "collapsed": true
   },
   "outputs": [],
   "source": [
    "def calculateMean(data):\n",
    " ssum = 0\n",
    " for data1 in data:\n",
    "  ssum += data1\n",
    " return ssum / len(data)"
   ]
  },
  {
   "cell_type": "code",
   "execution_count": 5,
   "metadata": {
    "collapsed": true
   },
   "outputs": [],
   "source": [
    "def calculateVariance(data):\n",
    " n = len(data)\n",
    " mean = calculateMean(data)\n",
    " variance = 0\n",
    " for data1 in data:\n",
    "  variance += math.pow((data1 - mean), 2)\n",
    " return variance / (n - 1)"
   ]
  },
  {
   "cell_type": "code",
   "execution_count": 6,
   "metadata": {
    "collapsed": true
   },
   "outputs": [],
   "source": [
    "def calculateStd(variance, data):\n",
    " if(variance == 0):\n",
    "  variance = calculateVariance(data)\n",
    "  return math.sqrt(variance)\n",
    " elif(variance > 0):\n",
    "  return math.sqrt(variance)"
   ]
  },
  {
   "cell_type": "markdown",
   "metadata": {},
   "source": [
    "We define colour BLUE, BOLD, UNDERLINE. It is not essential for this tool but we are including them for \"decoration\" purposes."
   ]
  },
  {
   "cell_type": "code",
   "execution_count": 7,
   "metadata": {
    "collapsed": true
   },
   "outputs": [],
   "source": [
    "class color:\n",
    "   BLUE = '\\033[94m'\n",
    "   BOLD = '\\033[1m'\n",
    "   UNDERLINE = '\\033[4m'\n",
    "   END = '\\033[0m'"
   ]
  },
  {
   "cell_type": "markdown",
   "metadata": {},
   "source": [
    "The numbers have already submitted and the program knows how to perform the calculations. Now we need to define how the program will display the menu and results:"
   ]
  },
  {
   "cell_type": "code",
   "execution_count": 8,
   "metadata": {
    "collapsed": true
   },
   "outputs": [],
   "source": [
    "def main():\n",
    " exit = False\n",
    " data = []\n",
    " variance = 0\n",
    " while not exit:\n",
    "  option = -1\n",
    "  menu()\n",
    "  option = input()\n",
    "# When we select option 1:\n",
    "  if(option == '1'):\n",
    "   data = obtainNumbers()\n",
    "# Option 2:\n",
    "  elif(option == '2'):\n",
    "    mean = calculateMean(data)\n",
    "    print(\"Mean:\", round(mean, 2))\n",
    "    input(\"Press enter to continue...\")\n",
    "# Option 3\n",
    "  elif(option == '3'):\n",
    "   variance = calculateVariance(data)\n",
    "   print (\"Variance is: \", round(variance, 2))\n",
    "   input(\"Press enter to continue...\")\n",
    "# Option 4:\n",
    "  elif(option == '4'):\n",
    "   deviation = calculateStd(variance, data)\n",
    "   print (\"Value of the standard deviation: \", round(deviation, 2))\n",
    "   input(\"Press enter to continue...\")\n",
    "# Option 5\n",
    "  elif(option == '5'):\n",
    "   print(color.BOLD + color.UNDERLINE + \"GOOD JOB! COME BACK EVERY TIME YOU NEED ME!\" + color.END)\n",
    "   exit = True\n",
    "# In case the user selects a non-defined option:\n",
    "  else:\n",
    "   print(color.BOLD + color.UNDERLINE + color.BLUE + \"THAT IS NOT AN OPTION MAN! TRY AGAIN!\" + color.END)"
   ]
  },
  {
   "cell_type": "markdown",
   "metadata": {},
   "source": [
    "**Run the below cell to start the program:**"
   ]
  },
  {
   "cell_type": "code",
   "execution_count": null,
   "metadata": {
    "collapsed": true
   },
   "outputs": [],
   "source": [
    "if __name__ == \"__main__\":\n",
    " main()"
   ]
  }
 ],
 "metadata": {
  "kernelspec": {
   "display_name": "Python 3",
   "language": "python",
   "name": "python3"
  },
  "language_info": {
   "codemirror_mode": {
    "name": "ipython",
    "version": 3
   },
   "file_extension": ".py",
   "mimetype": "text/x-python",
   "name": "python",
   "nbconvert_exporter": "python",
   "pygments_lexer": "ipython3",
   "version": "3.6.2"
  }
 },
 "nbformat": 4,
 "nbformat_minor": 2
}
